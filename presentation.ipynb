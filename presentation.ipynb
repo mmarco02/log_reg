{
 "cells": [
  {
   "cell_type": "markdown",
   "source": [
    "# Logistic Regression"
   ],
   "metadata": {
    "collapsed": false
   },
   "id": "dd6df489798b1b72"
  },
  {
   "cell_type": "markdown",
   "source": [
    "### Sigmoid Function:\n",
    " \n",
    "S-Förmige Funktion\n",
    "\n",
    "definiert als:\n",
    "\n",
    "$$\n",
    "f(x) = \\frac{1}{1 + e^{-x}}\n",
    "$$\n",
    "\n",
    "Asymptoten bei: $y = 0$ und $y = 1$. Mittelwert: $x = 0$\n",
    "\n",
    "Die Funktion wird in der Logistischen Regression verwendet, um die Wahrscheinlichkeit zu berechnen, dass eine Variable einer bestimmten Klasse zugeordnet wird. \n",
    "\n",
    "Die Funktion nimmt eine beliebige Zahl und gibt eine Wahrscheinlichkeit zwischen 0 und 1 zurück.\n",
    "\n",
    "Continuous Data und Discrete Data kann in der Logistischen Regression verwendet werden.\n",
    "\n",
    "\n",
    "\n",
    "#### Sigmoid function für Logistic Regression\n",
    "\n",
    "$$\n",
    "p(x)={\\frac {1}{1+e^{\\frac{-(x-\\mu)}{s}}}}\n",
    "$$\n",
    "\n",
    "$\\mu$ ist der Mittelwert\n",
    "\n",
    "y-Achse: Wahrscheinlichkeit\n",
    "\n",
    "x-Achse: Werte"
   ],
   "metadata": {
    "collapsed": false
   },
   "id": "43a514a070975b89"
  },
  {
   "cell_type": "markdown",
   "source": [
    "### Logistische Regression\n",
    "- Klassifikationsalgorithmus\n",
    "- Predicted die Wahrscheinlichkeit, dass eine Instanz zu einer bestimmten Klasse gehört\n",
    "- Wenn die Wahrscheinlichkeit größer als 50% ist, wird die Instanz der Klasse 1 zugeordnet, sonst der Klasse 0\n",
    "\n",
    "Die Werte werden mit der Logit Funktion in die Wahrscheinlichkeit umgewandelt.\n",
    "\n",
    "$$\n",
    "\\ln{\\frac{p}{1-p}}\n",
    "$$\n",
    "\n",
    "Dabei ist p die Wahrscheinlichkeit, dass die Instanz der Klasse 1 zugeordnet wird.\n",
    "\n",
    "Der Mittelpunkt der y-Achse ist p = 0.5\n",
    "\n",
    "$$\n",
    "\\ln{\\frac{0.5}{1-0.5}} = 0\n",
    "$$\n",
    "\n",
    "Dies ist nun der Mittelpunkt der x-Achse\n",
    "\n",
    "Problem:\n",
    "- Wenn die Wahrscheinlichkeiten 1 oder 0 sind:\n",
    "    - $\\ln{\\frac{1}{1-1}} = \\ln{\\frac{1}{0}} = \\ln{1} - \\ln{0} = 1 - \\infty = \\infty$\n",
    "    - $\\ln{\\frac{0}{1-0}} = \\ln{\\frac{0}{1}} = \\ln{0} - \\ln{1} = -\\infty - 0 = -\\infty$\n",
    "\n",
    "\n",
    "### Decision Boundary\n",
    "- Trennlinie, die die Klassen voneinander trennt\n",
    "- Die Wahrscheinlichkeit wird durch die Sigmoid Funktion berechnet\n",
    "- Die Decision Boundary ist der Punkt, an dem die Wahrscheinlichkeit 50% beträgt\n",
    "- binärer Classifier\n",
    "\n",
    "\n",
    "\n",
    "$$ y = k * x + d $$\n",
    "\n",
    "$$ = $$\n",
    "\n",
    "$$y = x * \\text{Coefficient} + \\text{y-Achse Intercept} $$"
   ],
   "metadata": {
    "collapsed": false
   },
   "id": "2bd7e94c8a5604b8"
  },
  {
   "cell_type": "markdown",
   "source": [
    "### Logistic Regression Beispiel"
   ],
   "metadata": {
    "collapsed": false
   },
   "id": "28ba93b842e8ce89"
  },
  {
   "cell_type": "code",
   "outputs": [],
   "source": [
    "import numpy as np\n",
    "import matplotlib.pyplot as plt\n",
    "from sklearn.linear_model import LogisticRegression"
   ],
   "metadata": {
    "collapsed": false,
    "ExecuteTime": {
     "end_time": "2024-03-26T13:10:41.565369Z",
     "start_time": "2024-03-26T13:10:41.561307Z"
    }
   },
   "id": "66c3b71061c0b98",
   "execution_count": 68
  },
  {
   "cell_type": "markdown",
   "source": [
    "**Testdaten**"
   ],
   "metadata": {
    "collapsed": false
   },
   "id": "1ad6fab0eba7de8c"
  },
  {
   "cell_type": "code",
   "outputs": [],
   "source": [
    "x = np.array([1, 2, 3, 4, 5, 6, 7, 8, 9, 10]).reshape(-1, 1)\n",
    "y = np.array([0, 0, 0, 0, 0, 1, 1, 1, 1, 1])"
   ],
   "metadata": {
    "collapsed": false,
    "ExecuteTime": {
     "end_time": "2024-03-26T13:10:41.614816Z",
     "start_time": "2024-03-26T13:10:41.610430Z"
    }
   },
   "id": "dd0eea87dac2909a",
   "execution_count": 69
  },
  {
   "cell_type": "markdown",
   "source": [
    "**Model**"
   ],
   "metadata": {
    "collapsed": false
   },
   "id": "3948e5db37e32393"
  },
  {
   "cell_type": "code",
   "outputs": [
    {
     "data": {
      "text/plain": "LogisticRegression(random_state=0, solver='liblinear')",
      "text/html": "<style>#sk-container-id-6 {\n  /* Definition of color scheme common for light and dark mode */\n  --sklearn-color-text: black;\n  --sklearn-color-line: gray;\n  /* Definition of color scheme for unfitted estimators */\n  --sklearn-color-unfitted-level-0: #fff5e6;\n  --sklearn-color-unfitted-level-1: #f6e4d2;\n  --sklearn-color-unfitted-level-2: #ffe0b3;\n  --sklearn-color-unfitted-level-3: chocolate;\n  /* Definition of color scheme for fitted estimators */\n  --sklearn-color-fitted-level-0: #f0f8ff;\n  --sklearn-color-fitted-level-1: #d4ebff;\n  --sklearn-color-fitted-level-2: #b3dbfd;\n  --sklearn-color-fitted-level-3: cornflowerblue;\n\n  /* Specific color for light theme */\n  --sklearn-color-text-on-default-background: var(--sg-text-color, var(--theme-code-foreground, var(--jp-content-font-color1, black)));\n  --sklearn-color-background: var(--sg-background-color, var(--theme-background, var(--jp-layout-color0, white)));\n  --sklearn-color-border-box: var(--sg-text-color, var(--theme-code-foreground, var(--jp-content-font-color1, black)));\n  --sklearn-color-icon: #696969;\n\n  @media (prefers-color-scheme: dark) {\n    /* Redefinition of color scheme for dark theme */\n    --sklearn-color-text-on-default-background: var(--sg-text-color, var(--theme-code-foreground, var(--jp-content-font-color1, white)));\n    --sklearn-color-background: var(--sg-background-color, var(--theme-background, var(--jp-layout-color0, #111)));\n    --sklearn-color-border-box: var(--sg-text-color, var(--theme-code-foreground, var(--jp-content-font-color1, white)));\n    --sklearn-color-icon: #878787;\n  }\n}\n\n#sk-container-id-6 {\n  color: var(--sklearn-color-text);\n}\n\n#sk-container-id-6 pre {\n  padding: 0;\n}\n\n#sk-container-id-6 input.sk-hidden--visually {\n  border: 0;\n  clip: rect(1px 1px 1px 1px);\n  clip: rect(1px, 1px, 1px, 1px);\n  height: 1px;\n  margin: -1px;\n  overflow: hidden;\n  padding: 0;\n  position: absolute;\n  width: 1px;\n}\n\n#sk-container-id-6 div.sk-dashed-wrapped {\n  border: 1px dashed var(--sklearn-color-line);\n  margin: 0 0.4em 0.5em 0.4em;\n  box-sizing: border-box;\n  padding-bottom: 0.4em;\n  background-color: var(--sklearn-color-background);\n}\n\n#sk-container-id-6 div.sk-container {\n  /* jupyter's `normalize.less` sets `[hidden] { display: none; }`\n     but bootstrap.min.css set `[hidden] { display: none !important; }`\n     so we also need the `!important` here to be able to override the\n     default hidden behavior on the sphinx rendered scikit-learn.org.\n     See: https://github.com/scikit-learn/scikit-learn/issues/21755 */\n  display: inline-block !important;\n  position: relative;\n}\n\n#sk-container-id-6 div.sk-text-repr-fallback {\n  display: none;\n}\n\ndiv.sk-parallel-item,\ndiv.sk-serial,\ndiv.sk-item {\n  /* draw centered vertical line to link estimators */\n  background-image: linear-gradient(var(--sklearn-color-text-on-default-background), var(--sklearn-color-text-on-default-background));\n  background-size: 2px 100%;\n  background-repeat: no-repeat;\n  background-position: center center;\n}\n\n/* Parallel-specific style estimator block */\n\n#sk-container-id-6 div.sk-parallel-item::after {\n  content: \"\";\n  width: 100%;\n  border-bottom: 2px solid var(--sklearn-color-text-on-default-background);\n  flex-grow: 1;\n}\n\n#sk-container-id-6 div.sk-parallel {\n  display: flex;\n  align-items: stretch;\n  justify-content: center;\n  background-color: var(--sklearn-color-background);\n  position: relative;\n}\n\n#sk-container-id-6 div.sk-parallel-item {\n  display: flex;\n  flex-direction: column;\n}\n\n#sk-container-id-6 div.sk-parallel-item:first-child::after {\n  align-self: flex-end;\n  width: 50%;\n}\n\n#sk-container-id-6 div.sk-parallel-item:last-child::after {\n  align-self: flex-start;\n  width: 50%;\n}\n\n#sk-container-id-6 div.sk-parallel-item:only-child::after {\n  width: 0;\n}\n\n/* Serial-specific style estimator block */\n\n#sk-container-id-6 div.sk-serial {\n  display: flex;\n  flex-direction: column;\n  align-items: center;\n  background-color: var(--sklearn-color-background);\n  padding-right: 1em;\n  padding-left: 1em;\n}\n\n\n/* Toggleable style: style used for estimator/Pipeline/ColumnTransformer box that is\nclickable and can be expanded/collapsed.\n- Pipeline and ColumnTransformer use this feature and define the default style\n- Estimators will overwrite some part of the style using the `sk-estimator` class\n*/\n\n/* Pipeline and ColumnTransformer style (default) */\n\n#sk-container-id-6 div.sk-toggleable {\n  /* Default theme specific background. It is overwritten whether we have a\n  specific estimator or a Pipeline/ColumnTransformer */\n  background-color: var(--sklearn-color-background);\n}\n\n/* Toggleable label */\n#sk-container-id-6 label.sk-toggleable__label {\n  cursor: pointer;\n  display: block;\n  width: 100%;\n  margin-bottom: 0;\n  padding: 0.5em;\n  box-sizing: border-box;\n  text-align: center;\n}\n\n#sk-container-id-6 label.sk-toggleable__label-arrow:before {\n  /* Arrow on the left of the label */\n  content: \"▸\";\n  float: left;\n  margin-right: 0.25em;\n  color: var(--sklearn-color-icon);\n}\n\n#sk-container-id-6 label.sk-toggleable__label-arrow:hover:before {\n  color: var(--sklearn-color-text);\n}\n\n/* Toggleable content - dropdown */\n\n#sk-container-id-6 div.sk-toggleable__content {\n  max-height: 0;\n  max-width: 0;\n  overflow: hidden;\n  text-align: left;\n  /* unfitted */\n  background-color: var(--sklearn-color-unfitted-level-0);\n}\n\n#sk-container-id-6 div.sk-toggleable__content.fitted {\n  /* fitted */\n  background-color: var(--sklearn-color-fitted-level-0);\n}\n\n#sk-container-id-6 div.sk-toggleable__content pre {\n  margin: 0.2em;\n  border-radius: 0.25em;\n  color: var(--sklearn-color-text);\n  /* unfitted */\n  background-color: var(--sklearn-color-unfitted-level-0);\n}\n\n#sk-container-id-6 div.sk-toggleable__content.fitted pre {\n  /* unfitted */\n  background-color: var(--sklearn-color-fitted-level-0);\n}\n\n#sk-container-id-6 input.sk-toggleable__control:checked~div.sk-toggleable__content {\n  /* Expand drop-down */\n  max-height: 200px;\n  max-width: 100%;\n  overflow: auto;\n}\n\n#sk-container-id-6 input.sk-toggleable__control:checked~label.sk-toggleable__label-arrow:before {\n  content: \"▾\";\n}\n\n/* Pipeline/ColumnTransformer-specific style */\n\n#sk-container-id-6 div.sk-label input.sk-toggleable__control:checked~label.sk-toggleable__label {\n  color: var(--sklearn-color-text);\n  background-color: var(--sklearn-color-unfitted-level-2);\n}\n\n#sk-container-id-6 div.sk-label.fitted input.sk-toggleable__control:checked~label.sk-toggleable__label {\n  background-color: var(--sklearn-color-fitted-level-2);\n}\n\n/* Estimator-specific style */\n\n/* Colorize estimator box */\n#sk-container-id-6 div.sk-estimator input.sk-toggleable__control:checked~label.sk-toggleable__label {\n  /* unfitted */\n  background-color: var(--sklearn-color-unfitted-level-2);\n}\n\n#sk-container-id-6 div.sk-estimator.fitted input.sk-toggleable__control:checked~label.sk-toggleable__label {\n  /* fitted */\n  background-color: var(--sklearn-color-fitted-level-2);\n}\n\n#sk-container-id-6 div.sk-label label.sk-toggleable__label,\n#sk-container-id-6 div.sk-label label {\n  /* The background is the default theme color */\n  color: var(--sklearn-color-text-on-default-background);\n}\n\n/* On hover, darken the color of the background */\n#sk-container-id-6 div.sk-label:hover label.sk-toggleable__label {\n  color: var(--sklearn-color-text);\n  background-color: var(--sklearn-color-unfitted-level-2);\n}\n\n/* Label box, darken color on hover, fitted */\n#sk-container-id-6 div.sk-label.fitted:hover label.sk-toggleable__label.fitted {\n  color: var(--sklearn-color-text);\n  background-color: var(--sklearn-color-fitted-level-2);\n}\n\n/* Estimator label */\n\n#sk-container-id-6 div.sk-label label {\n  font-family: monospace;\n  font-weight: bold;\n  display: inline-block;\n  line-height: 1.2em;\n}\n\n#sk-container-id-6 div.sk-label-container {\n  text-align: center;\n}\n\n/* Estimator-specific */\n#sk-container-id-6 div.sk-estimator {\n  font-family: monospace;\n  border: 1px dotted var(--sklearn-color-border-box);\n  border-radius: 0.25em;\n  box-sizing: border-box;\n  margin-bottom: 0.5em;\n  /* unfitted */\n  background-color: var(--sklearn-color-unfitted-level-0);\n}\n\n#sk-container-id-6 div.sk-estimator.fitted {\n  /* fitted */\n  background-color: var(--sklearn-color-fitted-level-0);\n}\n\n/* on hover */\n#sk-container-id-6 div.sk-estimator:hover {\n  /* unfitted */\n  background-color: var(--sklearn-color-unfitted-level-2);\n}\n\n#sk-container-id-6 div.sk-estimator.fitted:hover {\n  /* fitted */\n  background-color: var(--sklearn-color-fitted-level-2);\n}\n\n/* Specification for estimator info (e.g. \"i\" and \"?\") */\n\n/* Common style for \"i\" and \"?\" */\n\n.sk-estimator-doc-link,\na:link.sk-estimator-doc-link,\na:visited.sk-estimator-doc-link {\n  float: right;\n  font-size: smaller;\n  line-height: 1em;\n  font-family: monospace;\n  background-color: var(--sklearn-color-background);\n  border-radius: 1em;\n  height: 1em;\n  width: 1em;\n  text-decoration: none !important;\n  margin-left: 1ex;\n  /* unfitted */\n  border: var(--sklearn-color-unfitted-level-1) 1pt solid;\n  color: var(--sklearn-color-unfitted-level-1);\n}\n\n.sk-estimator-doc-link.fitted,\na:link.sk-estimator-doc-link.fitted,\na:visited.sk-estimator-doc-link.fitted {\n  /* fitted */\n  border: var(--sklearn-color-fitted-level-1) 1pt solid;\n  color: var(--sklearn-color-fitted-level-1);\n}\n\n/* On hover */\ndiv.sk-estimator:hover .sk-estimator-doc-link:hover,\n.sk-estimator-doc-link:hover,\ndiv.sk-label-container:hover .sk-estimator-doc-link:hover,\n.sk-estimator-doc-link:hover {\n  /* unfitted */\n  background-color: var(--sklearn-color-unfitted-level-3);\n  color: var(--sklearn-color-background);\n  text-decoration: none;\n}\n\ndiv.sk-estimator.fitted:hover .sk-estimator-doc-link.fitted:hover,\n.sk-estimator-doc-link.fitted:hover,\ndiv.sk-label-container:hover .sk-estimator-doc-link.fitted:hover,\n.sk-estimator-doc-link.fitted:hover {\n  /* fitted */\n  background-color: var(--sklearn-color-fitted-level-3);\n  color: var(--sklearn-color-background);\n  text-decoration: none;\n}\n\n/* Span, style for the box shown on hovering the info icon */\n.sk-estimator-doc-link span {\n  display: none;\n  z-index: 9999;\n  position: relative;\n  font-weight: normal;\n  right: .2ex;\n  padding: .5ex;\n  margin: .5ex;\n  width: min-content;\n  min-width: 20ex;\n  max-width: 50ex;\n  color: var(--sklearn-color-text);\n  box-shadow: 2pt 2pt 4pt #999;\n  /* unfitted */\n  background: var(--sklearn-color-unfitted-level-0);\n  border: .5pt solid var(--sklearn-color-unfitted-level-3);\n}\n\n.sk-estimator-doc-link.fitted span {\n  /* fitted */\n  background: var(--sklearn-color-fitted-level-0);\n  border: var(--sklearn-color-fitted-level-3);\n}\n\n.sk-estimator-doc-link:hover span {\n  display: block;\n}\n\n/* \"?\"-specific style due to the `<a>` HTML tag */\n\n#sk-container-id-6 a.estimator_doc_link {\n  float: right;\n  font-size: 1rem;\n  line-height: 1em;\n  font-family: monospace;\n  background-color: var(--sklearn-color-background);\n  border-radius: 1rem;\n  height: 1rem;\n  width: 1rem;\n  text-decoration: none;\n  /* unfitted */\n  color: var(--sklearn-color-unfitted-level-1);\n  border: var(--sklearn-color-unfitted-level-1) 1pt solid;\n}\n\n#sk-container-id-6 a.estimator_doc_link.fitted {\n  /* fitted */\n  border: var(--sklearn-color-fitted-level-1) 1pt solid;\n  color: var(--sklearn-color-fitted-level-1);\n}\n\n/* On hover */\n#sk-container-id-6 a.estimator_doc_link:hover {\n  /* unfitted */\n  background-color: var(--sklearn-color-unfitted-level-3);\n  color: var(--sklearn-color-background);\n  text-decoration: none;\n}\n\n#sk-container-id-6 a.estimator_doc_link.fitted:hover {\n  /* fitted */\n  background-color: var(--sklearn-color-fitted-level-3);\n}\n</style><div id=\"sk-container-id-6\" class=\"sk-top-container\"><div class=\"sk-text-repr-fallback\"><pre>LogisticRegression(random_state=0, solver=&#x27;liblinear&#x27;)</pre><b>In a Jupyter environment, please rerun this cell to show the HTML representation or trust the notebook. <br />On GitHub, the HTML representation is unable to render, please try loading this page with nbviewer.org.</b></div><div class=\"sk-container\" hidden><div class=\"sk-item\"><div class=\"sk-estimator fitted sk-toggleable\"><input class=\"sk-toggleable__control sk-hidden--visually\" id=\"sk-estimator-id-6\" type=\"checkbox\" checked><label for=\"sk-estimator-id-6\" class=\"sk-toggleable__label fitted sk-toggleable__label-arrow fitted\">&nbsp;&nbsp;LogisticRegression<a class=\"sk-estimator-doc-link fitted\" rel=\"noreferrer\" target=\"_blank\" href=\"https://scikit-learn.org/1.4/modules/generated/sklearn.linear_model.LogisticRegression.html\">?<span>Documentation for LogisticRegression</span></a><span class=\"sk-estimator-doc-link fitted\">i<span>Fitted</span></span></label><div class=\"sk-toggleable__content fitted\"><pre>LogisticRegression(random_state=0, solver=&#x27;liblinear&#x27;)</pre></div> </div></div></div></div>"
     },
     "execution_count": 70,
     "metadata": {},
     "output_type": "execute_result"
    }
   ],
   "source": [
    "model = LogisticRegression(solver='liblinear', random_state=0)\n",
    "model.fit(x, y)"
   ],
   "metadata": {
    "collapsed": false,
    "ExecuteTime": {
     "end_time": "2024-03-26T13:10:41.637479Z",
     "start_time": "2024-03-26T13:10:41.630890Z"
    }
   },
   "id": "136c2beaf4b01b54",
   "execution_count": 70
  },
  {
   "cell_type": "markdown",
   "source": [
    "**Prediction mit Wahrscheinlichkeiten**"
   ],
   "metadata": {
    "collapsed": false
   },
   "id": "720987b00301c927"
  },
  {
   "cell_type": "code",
   "outputs": [
    {
     "data": {
      "text/plain": "array([[0.70498277, 0.29501723],\n       [0.63347563, 0.36652437],\n       [0.55556294, 0.44443706],\n       [0.47481893, 0.52518107],\n       [0.39537049, 0.60462951],\n       [0.32108813, 0.67891187],\n       [0.2548788 , 0.7451212 ],\n       [0.19833365, 0.80166635],\n       [0.15177782, 0.84822218],\n       [0.11458821, 0.88541179]])"
     },
     "execution_count": 71,
     "metadata": {},
     "output_type": "execute_result"
    }
   ],
   "source": [
    "model.predict_proba(x)"
   ],
   "metadata": {
    "collapsed": false,
    "ExecuteTime": {
     "end_time": "2024-03-26T13:10:41.644724Z",
     "start_time": "2024-03-26T13:10:41.638999Z"
    }
   },
   "id": "6151e233fcc10b05",
   "execution_count": 71
  },
  {
   "cell_type": "code",
   "outputs": [
    {
     "data": {
      "text/plain": "array([0, 0, 0, 1, 1, 1, 1, 1, 1, 1])"
     },
     "execution_count": 72,
     "metadata": {},
     "output_type": "execute_result"
    }
   ],
   "source": [
    "model.predict(x)"
   ],
   "metadata": {
    "collapsed": false,
    "ExecuteTime": {
     "end_time": "2024-03-26T13:10:41.651222Z",
     "start_time": "2024-03-26T13:10:41.645740Z"
    }
   },
   "id": "ec5fd35606eb1967",
   "execution_count": 72
  },
  {
   "cell_type": "markdown",
   "source": [
    "**Visualisierung**\n",
    "\n",
    "- Rot: Sigmoid Function\n",
    "- Blau: Decision Boundary\n",
    "\n",
    "Die Decision Boundary ist der Punkt, an dem die Wahrscheinlichkeit 50% beträgt\n",
    "\n",
    "y = Wahrscheinlichkeit\n",
    "x = Werte"
   ],
   "metadata": {
    "collapsed": false
   },
   "id": "7c5da58ebd2b144e"
  },
  {
   "cell_type": "code",
   "outputs": [
    {
     "data": {
      "text/plain": "<Figure size 640x480 with 1 Axes>",
      "image/png": "[encoded data removed]"
     },
     "metadata": {},
     "output_type": "display_data"
    }
   ],
   "source": [
    "plt.scatter(x.ravel(), y, color='black', zorder=20)\n",
    "x_test = np.linspace(0, 10, 300)\n",
    "y_prob = model.predict_proba(x_test.reshape(-1, 1))[:, 1]\n",
    "plt.plot(x_test, y_prob, color='red')\n",
    "\n",
    "plt.plot(x_test, y_prob > 0.5, color='blue')\n",
    "plt.xlabel('x')\n",
    "plt.ylabel('y')\n",
    "\n",
    "plt.show()"
   ],
   "metadata": {
    "collapsed": false,
    "ExecuteTime": {
     "end_time": "2024-03-26T13:10:41.753776Z",
     "start_time": "2024-03-26T13:10:41.659189Z"
    }
   },
   "id": "b8c830b01bebc7b5",
   "execution_count": 73
  },
  {
   "cell_type": "markdown",
   "source": [
    "**Decision Boundary**"
   ],
   "metadata": {
    "collapsed": false
   },
   "id": "95a992f62334b5fd"
  },
  {
   "cell_type": "code",
   "outputs": [
    {
     "data": {
      "text/plain": "<Figure size 640x480 with 1 Axes>",
      "image/png": "[encoded data removed]"
     },
     "metadata": {},
     "output_type": "display_data"
    }
   ],
   "source": [
    "plt.scatter(x.ravel(), y, color='black', zorder=20)\n",
    "x_test = np.linspace(0, 10, 300)\n",
    "y_prob = model.predict_proba(x_test.reshape(-1, 1))[:, 1]\n",
    "plt.plot(x_test, np.log(y_prob/(1-y_prob)), color='red')\n",
    "plt.xlabel('x')\n",
    "plt.ylabel('y')\n",
    "plt.show()"
   ],
   "metadata": {
    "collapsed": false,
    "ExecuteTime": {
     "end_time": "2024-03-26T13:10:41.855225Z",
     "start_time": "2024-03-26T13:10:41.754783Z"
    }
   },
   "id": "187602fc3f821483",
   "execution_count": 74
  },
  {
   "cell_type": "markdown",
   "source": [
    "**Coefficient und Intercept**\n",
    "\n",
    "- **Coefficient:** Steigung der Decision Boundary\n",
    "                    d.h für jeden Anstieg um 1, steigt die Wahrscheinlichkeit um den Coefficient\n",
    "- **Intercept:** Punkt, an dem die Decision Boundary die y-Achse schneidet"
   ],
   "metadata": {
    "collapsed": false
   },
   "id": "822a411e5f456f0e"
  },
  {
   "cell_type": "code",
   "outputs": [
    {
     "data": {
      "text/plain": "array([[0.32398305]])"
     },
     "execution_count": 75,
     "metadata": {},
     "output_type": "execute_result"
    }
   ],
   "source": [
    "model.coef_"
   ],
   "metadata": {
    "collapsed": false,
    "ExecuteTime": {
     "end_time": "2024-03-26T13:10:41.861355Z",
     "start_time": "2024-03-26T13:10:41.856367Z"
    }
   },
   "id": "e2f0bd868b0b79e6",
   "execution_count": 75
  },
  {
   "cell_type": "code",
   "outputs": [
    {
     "data": {
      "text/plain": "array([-1.19512263])"
     },
     "execution_count": 76,
     "metadata": {},
     "output_type": "execute_result"
    }
   ],
   "source": [
    "model.intercept_"
   ],
   "metadata": {
    "collapsed": false,
    "ExecuteTime": {
     "end_time": "2024-03-26T13:10:41.867802Z",
     "start_time": "2024-03-26T13:10:41.863431Z"
    }
   },
   "id": "1c738063b2101599",
   "execution_count": 76
  },
  {
   "cell_type": "markdown",
   "source": [
    "Intercept = Punkt, an dem die Decision Boundary die y-Achse schneidet\n",
    "\n",
    "d.h. wenn x = 0, dann ist die Wahrscheinlichkeit = Intercept"
   ],
   "metadata": {
    "collapsed": false
   },
   "id": "d914c0a11b2f2f70"
  },
  {
   "cell_type": "code",
   "outputs": [
    {
     "data": {
      "text/plain": "array([1])"
     },
     "execution_count": 77,
     "metadata": {},
     "output_type": "execute_result"
    }
   ],
   "source": [
    "model.predict([[7.5]])"
   ],
   "metadata": {
    "collapsed": false,
    "ExecuteTime": {
     "end_time": "2024-03-26T13:10:41.874224Z",
     "start_time": "2024-03-26T13:10:41.868810Z"
    }
   },
   "id": "6cb57d68c4e4b7fc",
   "execution_count": 77
  },
  {
   "cell_type": "markdown",
   "source": [
    "#### Linear Regression vs Logistic Regression\n",
    "- fitting:\n",
    "\t- **linear regression: \"least squares\":**\n",
    "\t    die Summe der quadrierten Abweichungen der Vorhersagen von den tatsächlichen Werten wird minimiert\n",
    "\t- **logistic regression: \"maximum likelihood\":**\n",
    "\t    die Wahrscheinlichket dass die meisten Datenpunkte beobachtet werden wird maximiert"
   ],
   "metadata": {
    "collapsed": false
   },
   "id": "d95ebc6ff465b8ce"
  },
  {
   "cell_type": "markdown",
   "source": [
    "#### Maximum likelihood:\n",
    "- Die Wahrscheinlichkeit, dass die datei beobachtet werden\n",
    "\n",
    "$$\n",
    "p = \\frac{e^{ln(odds)}}{1 + e^{ln(odds)}}\n",
    "$$\n",
    "\n",
    "Daten werden auf Wahrscheinlichkeiten umgerechnet (Umkehrung der Logit Funktion)\n",
    "\n",
    "Die Likelihood eines Datenpunktes ist der Wahrscheinlichkeitswert auf der X-Achse bei diesem Datenpunkt\n",
    "\n",
    "Das $R^2$ wird in der Logistic Regression folgendermaßen berechnet:\n",
    "\n",
    "Daten werden auf die beste gefittete Linie gelegt und die Likelihood wird berechnet\n",
    "\n",
    "Die Daten werden mit den Ln(odds) auf Wahrscheinlichkeiten umgerechnet\n",
    "\n",
    "Die Likelihood wird berechnet \n",
    "\n",
    "LL = Log Likelihood (ln(odds))\n",
    "\n",
    "LL(overall p) = wenn die Daten auf die Linie gelegt werden\n",
    "\n",
    "LL(fit) = wenn die Daten auf die beste gefittete Signoid Function gelegt werden\n",
    "\n",
    "$$\n",
    "R^2 = \\frac{LL(\\text{overall p} - LL(\\text{fit})}{LL(\\text{overall p})}\n",
    "$$\n",
    "\n"
   ],
   "metadata": {
    "collapsed": false
   },
   "id": "a5d976c5ad4f413a"
  },
  {
   "cell_type": "markdown",
   "source": [
    "## [Interactive Logistic Regression Graph](https://www.desmos.com/calculator/mmymhr4waz)\n",
    "Hier wird die Logistic Regression mit dem Fitting durch Maximum Likelihood gezeigt"
   ],
   "metadata": {
    "collapsed": false
   },
   "id": "f2907a37937ec44f"
  },
  {
   "cell_type": "markdown",
   "source": [
    "**Beispiel für R^2**"
   ],
   "metadata": {
    "collapsed": false
   },
   "id": "2e948ce8a27d3f28"
  },
  {
   "cell_type": "code",
   "outputs": [
    {
     "data": {
      "text/plain": "0.19999999999999996"
     },
     "execution_count": 78,
     "metadata": {},
     "output_type": "execute_result"
    }
   ],
   "source": [
    "from sklearn.metrics import r2_score\n",
    "\n",
    "y_pred = model.predict(x)\n",
    "r2_score(y, y_pred)"
   ],
   "metadata": {
    "collapsed": false,
    "ExecuteTime": {
     "end_time": "2024-03-26T13:10:41.880648Z",
     "start_time": "2024-03-26T13:10:41.875232Z"
    }
   },
   "id": "ed9f441254784a0c",
   "execution_count": 78
  },
  {
   "cell_type": "markdown",
   "source": [
    "### t-test\n",
    "\n",
    "Zwei Gruppen werden miteinander verglichen\n",
    "\n",
    "Zwei Linien werden auf die Daten gefittet und dann Verglichen\n",
    "\n",
    "Es wird jeweils der Mittelwert der Zwei Gruppen verglichen\n",
    "\n",
    "Coefficient:\n",
    "$$\n",
    "y = \\text{Mittelwert Gruppe 1} * b_1 + (\\text{Mittelwert Gruppe 2} - \\text{Mittelwert Gruppe 1}) * b_2\n",
    "$$"
   ],
   "metadata": {
    "collapsed": false
   },
   "id": "e7a8a3ebbd0ba536"
  },
  {
   "cell_type": "markdown",
   "source": [
    "### t-test in Logistic Regression\n",
    "\n",
    "$$\n",
    "y = \\ln{\\text{P(Gruppe 1)}} * b_1 + (\\ln{\\text{P(Gruppe 2)}} - \\ln{\\text{P(Gruppe 1)}}) * b_2\n",
    "$$\n",
    "\n",
    "kann umgeformt werden zu:\n",
    "$$\n",
    "y = \\ln{\\text{P(Gruppe 1)} * b_1 + (\\ln{\\frac{\\text{P(Gruppe 2)}}{\\text{P(Gruppe 2)}}}) * b_2\n",
    "$$"
   ],
   "metadata": {
    "collapsed": false
   },
   "id": "500f0a92e0cfc506"
  },
  {
   "cell_type": "markdown",
   "source": [
    "# T-Test in Logistic Regression Beispiel"
   ],
   "metadata": {
    "collapsed": false
   },
   "id": "158274e17bbf6393"
  },
  {
   "cell_type": "code",
   "outputs": [
    {
     "data": {
      "text/plain": "<Figure size 640x480 with 1 Axes>",
      "image/png": "[encoded data removed]"
     },
     "metadata": {},
     "output_type": "display_data"
    },
    {
     "data": {
      "text/plain": "(array([[0.20649658]]), array([-0.78980856]))"
     },
     "execution_count": 79,
     "metadata": {},
     "output_type": "execute_result"
    }
   ],
   "source": [
    "import numpy as np\n",
    "import matplotlib.pyplot as plt\n",
    "from sklearn.linear_model import LogisticRegression\n",
    "\n",
    "x1 = np.array([1, 2, 3, 4, 5]).reshape(-1, 1)\n",
    "y1 = np.array([0, 0, 0, 1, 1])\n",
    "\n",
    "x2 = np.array([6, 7, 8, 9, 10]).reshape(-1, 1)\n",
    "y2 = np.array([0, 0, 1, 1, 1])\n",
    "\n",
    "model = LogisticRegression(solver='liblinear', random_state=0)\n",
    "model.fit(np.concatenate([x1, x2]), np.concatenate([y1, y2]))\n",
    "\n",
    "\n",
    "plt.scatter(np.concatenate([x1, x2]).ravel(), np.concatenate([y1, y2]), color='black', zorder=20)\n",
    "\n",
    "x_test = np.linspace(0, 10, 300)\n",
    "y_prob = model.predict_proba(x_test.reshape(-1, 1))[:, 1]\n",
    "plt.plot(x_test, y_prob, color='red')\n",
    "\n",
    "plt.plot(x_test, y_prob > 0.5, color='blue')\n",
    "plt.xlabel('x')\n",
    "plt.ylabel('y')\n",
    "\n",
    "plt.show()\n",
    "\n",
    "model.coef_, model.intercept_"
   ],
   "metadata": {
    "collapsed": false,
    "ExecuteTime": {
     "end_time": "2024-03-26T13:10:41.980171Z",
     "start_time": "2024-03-26T13:10:41.881773Z"
    }
   },
   "id": "ee69fc0cd943fc84",
   "execution_count": 79
  },
  {
   "cell_type": "markdown",
   "source": [
    "\n",
    "### Multinomial logistic regression\n",
    "- mehr als 2 Klassen\n",
    "- mehrere binäre Klassifikatoren\n",
    "- eine Klasse wird als Referenzklasse verwendet\n",
    "- die Klasse mit der höchsten Wahrscheinlichkeit wird ausgewählt"
   ],
   "metadata": {
    "collapsed": false
   },
   "id": "d2dce5e68d86841b"
  },
  {
   "cell_type": "markdown",
   "source": [
    "### Quellen:\n",
    "- [https://statquest.org/](https://statquest.org/)\n",
    "- [https://en.wikipedia.org/wiki/Logistic_regression](https://en.wikipedia.org/wiki/Logistic_regression)\n",
    "- [https://www.geeksforgeeks.org/understanding-logistic-regression/](https://www.geeksforgeeks.org/understanding-logistic-regression/)"
   ],
   "metadata": {
    "collapsed": false
   },
   "id": "b719697550231486"
  }
 ],
 "metadata": {
  "kernelspec": {
   "display_name": "Python 3",
   "language": "python",
   "name": "python3"
  },
  "language_info": {
   "codemirror_mode": {
    "name": "ipython",
    "version": 2
   },
   "file_extension": ".py",
   "mimetype": "text/x-python",
   "name": "python",
   "nbconvert_exporter": "python",
   "pygments_lexer": "ipython2",
   "version": "2.7.6"
  }
 },
 "nbformat": 4,
 "nbformat_minor": 5
}
