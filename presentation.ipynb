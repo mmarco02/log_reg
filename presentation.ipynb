{
 "cells": [
  {
   "cell_type": "markdown",
   "source": [
    "# Logistic Regression"
   ],
   "metadata": {
    "collapsed": false
   },
   "id": "dd6df489798b1b72"
  },
  {
   "cell_type": "markdown",
   "source": [
    "### Sigmoid Function:\n",
    " \n",
    "S-Förmige Funktion\n",
    "\n",
    "definiert als:\n",
    "\n",
    "$$\n",
    "f(x) = \\frac{1}{1 + e^{-x}}\n",
    "$$\n",
    "\n",
    "Asymptoten bei: $y = 0$ und $y = 1$. Mittelwert: $x = 0$\n",
    "\n",
    "Die Funktion wird in der Logistischen Regression verwendet, um die Wahrscheinlichkeit zu berechnen, dass eine Variable einer bestimmten Klasse zugeordnet wird. \n",
    "\n",
    "Die Funktion nimmt eine beliebige Zahl und gibt eine Wahrscheinlichkeit zwischen 0 und 1 zurück.\n",
    "\n",
    "Continuous Data und Discrete Data kann in der Logistischen Regression verwendet werden.\n",
    "\n",
    "\n",
    "\n",
    "#### Sigmoid function für Logistic Regression\n",
    "\n",
    "$$\n",
    "p(x)={\\frac {1}{1+e^{\\frac{-(x-\\mu)}{s}}}}\n",
    "$$\n",
    "\n",
    "$\\mu$ ist der Mittelwert\n",
    "\n",
    "y-Achse: Wahrscheinlichkeit\n",
    "\n",
    "x-Achse: Werte"
   ],
   "metadata": {
    "collapsed": false
   },
   "id": "43a514a070975b89"
  },
  {
   "cell_type": "markdown",
   "source": [
    "### Logistische Regression\n",
    "- Klassifikationsalgorithmus\n",
    "- Predicted die Wahrscheinlichkeit, dass eine Instanz zu einer bestimmten Klasse gehört\n",
    "- Wenn die Wahrscheinlichkeit größer als 50% ist, wird die Instanz der Klasse 1 zugeordnet, sonst der Klasse 0\n",
    "\n",
    "Die Werte werden mit der Logit Funktion in die Wahrscheinlichkeit umgewandelt.\n",
    "\n",
    "$$\n",
    "\\ln{\\frac{p}{1-p}}\n",
    "$$\n",
    "\n",
    "Dabei ist p die Wahrscheinlichkeit, dass die Instanz der Klasse 1 zugeordnet wird.\n",
    "\n",
    "Der Mittelpunkt der y-Achse ist p = 0.5\n",
    "\n",
    "$$\n",
    "\\ln{\\frac{0.5}{1-0.5}} = 0\n",
    "$$\n",
    "\n",
    "Dies ist nun der Mittelpunkt der x-Achse\n",
    "\n",
    "Problem:\n",
    "- Wenn die Wahrscheinlichkeiten 1 oder 0 sind:\n",
    "    - $\\ln{\\frac{1}{1-1}} = \\ln{\\frac{1}{0}} = \\ln{1} - \\ln{0} = 1 - (-\\infty) = \\infty$\n",
    "    - $\\ln{\\frac{0}{1-0}} = \\ln{\\frac{0}{1}} = \\ln{0} - \\ln{1} = -\\infty - 0 = -\\infty$\n",
    "\n",
    "\n",
    "### Decision Boundary\n",
    "- Trennlinie, die die Klassen voneinander trennt\n",
    "- Die Wahrscheinlichkeit wird durch die Sigmoid Funktion berechnet\n",
    "- Die Decision Boundary ist der Punkt, an dem die Wahrscheinlichkeit 50% beträgt\n",
    "- binärer Classifier\n",
    "\n",
    "\n",
    "\n",
    "$$ y = k * x + d $$\n",
    "\n",
    "$$ = $$\n",
    "\n",
    "$$y = x * \\text{Coefficient} + \\text{y-Achse Intercept} $$"
   ],
   "metadata": {
    "collapsed": false
   },
   "id": "2bd7e94c8a5604b8"
  },
  {
   "cell_type": "markdown",
   "source": [
    "### Logistic Regression Beispiel"
   ],
   "metadata": {
    "collapsed": false
   },
   "id": "28ba93b842e8ce89"
  },
  {
   "cell_type": "code",
   "outputs": [],
   "source": [
    "import numpy as np\n",
    "import matplotlib.pyplot as plt\n",
    "from sklearn.linear_model import LogisticRegression"
   ],
   "metadata": {
    "collapsed": false,
    "ExecuteTime": {
     "end_time": "2024-04-04T08:35:41.539675Z",
     "start_time": "2024-04-04T08:35:41.536231Z"
    }
   },
   "id": "66c3b71061c0b98",
   "execution_count": 26
  },
  {
   "cell_type": "markdown",
   "source": [
    "**Testdaten**"
   ],
   "metadata": {
    "collapsed": false
   },
   "id": "1ad6fab0eba7de8c"
  },
  {
   "cell_type": "code",
   "outputs": [],
   "source": [
    "x = np.array([1, 2, 3, 4, 5, 6, 7, 8, 9, 10]).reshape(-1, 1)\n",
    "y = np.array([0, 0, 0, 0, 0, 1, 1, 1, 1, 1])"
   ],
   "metadata": {
    "collapsed": false,
    "ExecuteTime": {
     "end_time": "2024-04-04T08:35:41.634069Z",
     "start_time": "2024-04-04T08:35:41.629269Z"
    }
   },
   "id": "dd0eea87dac2909a",
   "execution_count": 27
  },
  {
   "cell_type": "markdown",
   "source": [
    "**Model**"
   ],
   "metadata": {
    "collapsed": false
   },
   "id": "3948e5db37e32393"
  },
  {
   "cell_type": "code",
   "outputs": [
    {
     "data": {
      "text/plain": "LogisticRegression(random_state=0, solver='liblinear')",
      "text/html": "<style>#sk-container-id-3 {color: black;}#sk-container-id-3 pre{padding: 0;}#sk-container-id-3 div.sk-toggleable {background-color: white;}#sk-container-id-3 label.sk-toggleable__label {cursor: pointer;display: block;width: 100%;margin-bottom: 0;padding: 0.3em;box-sizing: border-box;text-align: center;}#sk-container-id-3 label.sk-toggleable__label-arrow:before {content: \"▸\";float: left;margin-right: 0.25em;color: #696969;}#sk-container-id-3 label.sk-toggleable__label-arrow:hover:before {color: black;}#sk-container-id-3 div.sk-estimator:hover label.sk-toggleable__label-arrow:before {color: black;}#sk-container-id-3 div.sk-toggleable__content {max-height: 0;max-width: 0;overflow: hidden;text-align: left;background-color: #f0f8ff;}#sk-container-id-3 div.sk-toggleable__content pre {margin: 0.2em;color: black;border-radius: 0.25em;background-color: #f0f8ff;}#sk-container-id-3 input.sk-toggleable__control:checked~div.sk-toggleable__content {max-height: 200px;max-width: 100%;overflow: auto;}#sk-container-id-3 input.sk-toggleable__control:checked~label.sk-toggleable__label-arrow:before {content: \"▾\";}#sk-container-id-3 div.sk-estimator input.sk-toggleable__control:checked~label.sk-toggleable__label {background-color: #d4ebff;}#sk-container-id-3 div.sk-label input.sk-toggleable__control:checked~label.sk-toggleable__label {background-color: #d4ebff;}#sk-container-id-3 input.sk-hidden--visually {border: 0;clip: rect(1px 1px 1px 1px);clip: rect(1px, 1px, 1px, 1px);height: 1px;margin: -1px;overflow: hidden;padding: 0;position: absolute;width: 1px;}#sk-container-id-3 div.sk-estimator {font-family: monospace;background-color: #f0f8ff;border: 1px dotted black;border-radius: 0.25em;box-sizing: border-box;margin-bottom: 0.5em;}#sk-container-id-3 div.sk-estimator:hover {background-color: #d4ebff;}#sk-container-id-3 div.sk-parallel-item::after {content: \"\";width: 100%;border-bottom: 1px solid gray;flex-grow: 1;}#sk-container-id-3 div.sk-label:hover label.sk-toggleable__label {background-color: #d4ebff;}#sk-container-id-3 div.sk-serial::before {content: \"\";position: absolute;border-left: 1px solid gray;box-sizing: border-box;top: 0;bottom: 0;left: 50%;z-index: 0;}#sk-container-id-3 div.sk-serial {display: flex;flex-direction: column;align-items: center;background-color: white;padding-right: 0.2em;padding-left: 0.2em;position: relative;}#sk-container-id-3 div.sk-item {position: relative;z-index: 1;}#sk-container-id-3 div.sk-parallel {display: flex;align-items: stretch;justify-content: center;background-color: white;position: relative;}#sk-container-id-3 div.sk-item::before, #sk-container-id-3 div.sk-parallel-item::before {content: \"\";position: absolute;border-left: 1px solid gray;box-sizing: border-box;top: 0;bottom: 0;left: 50%;z-index: -1;}#sk-container-id-3 div.sk-parallel-item {display: flex;flex-direction: column;z-index: 1;position: relative;background-color: white;}#sk-container-id-3 div.sk-parallel-item:first-child::after {align-self: flex-end;width: 50%;}#sk-container-id-3 div.sk-parallel-item:last-child::after {align-self: flex-start;width: 50%;}#sk-container-id-3 div.sk-parallel-item:only-child::after {width: 0;}#sk-container-id-3 div.sk-dashed-wrapped {border: 1px dashed gray;margin: 0 0.4em 0.5em 0.4em;box-sizing: border-box;padding-bottom: 0.4em;background-color: white;}#sk-container-id-3 div.sk-label label {font-family: monospace;font-weight: bold;display: inline-block;line-height: 1.2em;}#sk-container-id-3 div.sk-label-container {text-align: center;}#sk-container-id-3 div.sk-container {/* jupyter's `normalize.less` sets `[hidden] { display: none; }` but bootstrap.min.css set `[hidden] { display: none !important; }` so we also need the `!important` here to be able to override the default hidden behavior on the sphinx rendered scikit-learn.org. See: https://github.com/scikit-learn/scikit-learn/issues/21755 */display: inline-block !important;position: relative;}#sk-container-id-3 div.sk-text-repr-fallback {display: none;}</style><div id=\"sk-container-id-3\" class=\"sk-top-container\"><div class=\"sk-text-repr-fallback\"><pre>LogisticRegression(random_state=0, solver=&#x27;liblinear&#x27;)</pre><b>In a Jupyter environment, please rerun this cell to show the HTML representation or trust the notebook. <br />On GitHub, the HTML representation is unable to render, please try loading this page with nbviewer.org.</b></div><div class=\"sk-container\" hidden><div class=\"sk-item\"><div class=\"sk-estimator sk-toggleable\"><input class=\"sk-toggleable__control sk-hidden--visually\" id=\"sk-estimator-id-3\" type=\"checkbox\" checked><label for=\"sk-estimator-id-3\" class=\"sk-toggleable__label sk-toggleable__label-arrow\">LogisticRegression</label><div class=\"sk-toggleable__content\"><pre>LogisticRegression(random_state=0, solver=&#x27;liblinear&#x27;)</pre></div></div></div></div></div>"
     },
     "execution_count": 28,
     "metadata": {},
     "output_type": "execute_result"
    }
   ],
   "source": [
    "model = LogisticRegression(solver='liblinear', random_state=0)\n",
    "model.fit(x, y)"
   ],
   "metadata": {
    "collapsed": false,
    "ExecuteTime": {
     "end_time": "2024-04-04T08:35:41.643677Z",
     "start_time": "2024-04-04T08:35:41.636081Z"
    }
   },
   "id": "136c2beaf4b01b54",
   "execution_count": 28
  },
  {
   "cell_type": "markdown",
   "source": [
    "**Prediction mit Wahrscheinlichkeiten**"
   ],
   "metadata": {
    "collapsed": false
   },
   "id": "720987b00301c927"
  },
  {
   "cell_type": "code",
   "outputs": [
    {
     "data": {
      "text/plain": "array([[0.70498277, 0.29501723],\n       [0.63347563, 0.36652437],\n       [0.55556294, 0.44443706],\n       [0.47481893, 0.52518107],\n       [0.39537049, 0.60462951],\n       [0.32108813, 0.67891187],\n       [0.2548788 , 0.7451212 ],\n       [0.19833365, 0.80166635],\n       [0.15177782, 0.84822218],\n       [0.11458821, 0.88541179]])"
     },
     "execution_count": 29,
     "metadata": {},
     "output_type": "execute_result"
    }
   ],
   "source": [
    "model.predict_proba(x)"
   ],
   "metadata": {
    "collapsed": false,
    "ExecuteTime": {
     "end_time": "2024-04-04T08:35:41.657765Z",
     "start_time": "2024-04-04T08:35:41.653261Z"
    }
   },
   "id": "6151e233fcc10b05",
   "execution_count": 29
  },
  {
   "cell_type": "code",
   "outputs": [
    {
     "data": {
      "text/plain": "array([0, 0, 0, 1, 1, 1, 1, 1, 1, 1])"
     },
     "execution_count": 30,
     "metadata": {},
     "output_type": "execute_result"
    }
   ],
   "source": [
    "model.predict(x)"
   ],
   "metadata": {
    "collapsed": false,
    "ExecuteTime": {
     "end_time": "2024-04-04T08:35:41.683077Z",
     "start_time": "2024-04-04T08:35:41.678325Z"
    }
   },
   "id": "ec5fd35606eb1967",
   "execution_count": 30
  },
  {
   "cell_type": "markdown",
   "source": [
    "**Visualisierung**\n",
    "\n",
    "- Rot: Sigmoid Function\n",
    "- Blau: Decision Boundary\n",
    "\n",
    "Die Decision Boundary ist der Punkt, an dem die Wahrscheinlichkeit 50% beträgt\n",
    "\n",
    "y = Wahrscheinlichkeit\n",
    "x = Werte"
   ],
   "metadata": {
    "collapsed": false
   },
   "id": "7c5da58ebd2b144e"
  },
  {
   "cell_type": "code",
   "outputs": [
    {
     "data": {
      "text/plain": "<Figure size 640x480 with 1 Axes>",
      "image/png": "[encoded data removed]"
     },
     "metadata": {},
     "output_type": "display_data"
    }
   ],
   "source": [
    "plt.scatter(x.ravel(), y, color='black', zorder=20)\n",
    "x_test = np.linspace(0, 10, 300)\n",
    "y_prob = model.predict_proba(x_test.reshape(-1, 1))[:, 1]\n",
    "plt.plot(x_test, y_prob, color='red')\n",
    "\n",
    "plt.plot(x_test, y_prob > 0.5, color='blue')\n",
    "plt.xlabel('x')\n",
    "plt.ylabel('y')\n",
    "\n",
    "plt.show()"
   ],
   "metadata": {
    "collapsed": false,
    "ExecuteTime": {
     "end_time": "2024-04-04T08:35:41.791865Z",
     "start_time": "2024-04-04T08:35:41.685084Z"
    }
   },
   "id": "b8c830b01bebc7b5",
   "execution_count": 31
  },
  {
   "cell_type": "markdown",
   "source": [
    "**Decision Boundary**"
   ],
   "metadata": {
    "collapsed": false
   },
   "id": "95a992f62334b5fd"
  },
  {
   "cell_type": "code",
   "outputs": [
    {
     "data": {
      "text/plain": "<Figure size 640x480 with 1 Axes>",
      "image/png": "[encoded data removed]"
     },
     "metadata": {},
     "output_type": "display_data"
    }
   ],
   "source": [
    "plt.scatter(x.ravel(), y, color='black', zorder=20)\n",
    "x_test = np.linspace(0, 10, 300)\n",
    "y_prob = model.predict_proba(x_test.reshape(-1, 1))[:, 1]\n",
    "plt.plot(x_test, np.log(y_prob/(1-y_prob)), color='red')\n",
    "plt.xlabel('x')\n",
    "plt.ylabel('y')\n",
    "plt.show()"
   ],
   "metadata": {
    "collapsed": false,
    "ExecuteTime": {
     "end_time": "2024-04-04T08:35:41.907555Z",
     "start_time": "2024-04-04T08:35:41.792873Z"
    }
   },
   "id": "187602fc3f821483",
   "execution_count": 32
  },
  {
   "cell_type": "markdown",
   "source": [
    "**Coefficient und Intercept**\n",
    "\n",
    "- **Coefficient:** Steigung der Decision Boundary\n",
    "                    d.h für jeden Anstieg um 1, steigt die Wahrscheinlichkeit um den Coefficient\n",
    "- **Intercept:** Punkt, an dem die Decision Boundary die y-Achse schneidet\n",
    "        d.h. wenn x = 0, dann ist die Wahrscheinlichkeit gleich dem Intercept"
   ],
   "metadata": {
    "collapsed": false
   },
   "id": "822a411e5f456f0e"
  },
  {
   "cell_type": "code",
   "outputs": [
    {
     "data": {
      "text/plain": "array([[0.32398305]])"
     },
     "execution_count": 33,
     "metadata": {},
     "output_type": "execute_result"
    }
   ],
   "source": [
    "model.coef_"
   ],
   "metadata": {
    "collapsed": false,
    "ExecuteTime": {
     "end_time": "2024-04-04T08:35:41.914153Z",
     "start_time": "2024-04-04T08:35:41.908643Z"
    }
   },
   "id": "e2f0bd868b0b79e6",
   "execution_count": 33
  },
  {
   "cell_type": "code",
   "outputs": [
    {
     "data": {
      "text/plain": "array([-1.19512263])"
     },
     "execution_count": 34,
     "metadata": {},
     "output_type": "execute_result"
    }
   ],
   "source": [
    "model.intercept_"
   ],
   "metadata": {
    "collapsed": false,
    "ExecuteTime": {
     "end_time": "2024-04-04T08:35:41.921227Z",
     "start_time": "2024-04-04T08:35:41.916168Z"
    }
   },
   "id": "1c738063b2101599",
   "execution_count": 34
  },
  {
   "cell_type": "code",
   "outputs": [
    {
     "data": {
      "text/plain": "array([1])"
     },
     "execution_count": 35,
     "metadata": {},
     "output_type": "execute_result"
    }
   ],
   "source": [
    "model.predict([[7.5]])"
   ],
   "metadata": {
    "collapsed": false,
    "ExecuteTime": {
     "end_time": "2024-04-04T08:35:41.929961Z",
     "start_time": "2024-04-04T08:35:41.922651Z"
    }
   },
   "id": "6cb57d68c4e4b7fc",
   "execution_count": 35
  },
  {
   "cell_type": "markdown",
   "source": [
    "#### Linear Regression vs Logistic Regression\n",
    "- fitting:\n",
    "\t- **linear regression: \"least squares\":**\n",
    "\t    die Summe der quadrierten Abweichungen der Vorhersagen von den tatsächlichen Werten wird minimiert\n",
    "\t- **logistic regression: \"maximum likelihood\":**\n",
    "\t    die Wahrscheinlichket dass die meisten Datenpunkte beobachtet werden wird maximiert"
   ],
   "metadata": {
    "collapsed": false
   },
   "id": "d95ebc6ff465b8ce"
  },
  {
   "cell_type": "markdown",
   "source": [
    "#### Maximum likelihood:\n",
    "- Die Wahrscheinlichkeit, dass die datei beobachtet werden\n",
    "\n",
    "$$\n",
    "p = \\frac{e^{ln(odds)}}{1 + e^{ln(odds)}}\n",
    "$$\n",
    "\n",
    "Daten werden auf Wahrscheinlichkeiten umgerechnet (Umkehrung der Logit Funktion)\n",
    "\n",
    "Die Likelihood eines Datenpunktes ist der Wahrscheinlichkeitswert auf der X-Achse bei diesem Datenpunkt\n",
    "\n",
    "Das $R^2$ wird in der Logistic Regression folgendermaßen berechnet:\n",
    "\n",
    "Daten werden auf die beste gefittete Linie gelegt und die Likelihood wird berechnet\n",
    "\n",
    "Die Daten werden mit den Ln(odds) auf Wahrscheinlichkeiten umgerechnet\n",
    "\n",
    "Die Likelihood wird berechnet \n",
    "\n",
    "LL = Log Likelihood (ln(odds))\n",
    "\n",
    "LL(overall p) = wenn die Daten auf die Linie gelegt werden\n",
    "\n",
    "LL(fit) = wenn die Daten auf die beste gefittete Signoid Function gelegt werden\n",
    "\n",
    "$$\n",
    "R^2 = \\frac{LL(\\text{overall p} - LL(\\text{fit})}{LL(\\text{overall p})}\n",
    "$$\n",
    "\n"
   ],
   "metadata": {
    "collapsed": false
   },
   "id": "a5d976c5ad4f413a"
  },
  {
   "cell_type": "markdown",
   "source": [
    "## [Interactive Logistic Regression Graph](https://www.desmos.com/calculator/5vsoxlmehx)\n",
    "Hier wird die Logistic Regression mit dem Fitting durch Maximum Likelihood gezeigt"
   ],
   "metadata": {
    "collapsed": false
   },
   "id": "f2907a37937ec44f"
  },
  {
   "cell_type": "markdown",
   "source": [
    "**Beispiel für R^2**"
   ],
   "metadata": {
    "collapsed": false
   },
   "id": "2e948ce8a27d3f28"
  },
  {
   "cell_type": "code",
   "outputs": [
    {
     "data": {
      "text/plain": "0.19999999999999996"
     },
     "execution_count": 36,
     "metadata": {},
     "output_type": "execute_result"
    }
   ],
   "source": [
    "from sklearn.metrics import r2_score\n",
    "\n",
    "y_pred = model.predict(x)\n",
    "r2_score(y, y_pred)"
   ],
   "metadata": {
    "collapsed": false,
    "ExecuteTime": {
     "end_time": "2024-04-04T08:35:41.938034Z",
     "start_time": "2024-04-04T08:35:41.930970Z"
    }
   },
   "id": "ed9f441254784a0c",
   "execution_count": 36
  },
  {
   "cell_type": "markdown",
   "source": [
    "### t-test (in der Statistik)\n",
    "\n",
    "Zwei Gruppen werden miteinander verglichen\n",
    "\n",
    "Zwei Linien werden auf die Daten gefittet und dann Verglichen\n",
    "\n",
    "Es wird jeweils der Mittelwert der Zwei Gruppen verglichen\n",
    "\n",
    "Coefficient:\n",
    "$$\n",
    "y = \\text{Mittelwert Gruppe 1} * b_1 + (\\text{Mittelwert Gruppe 2} - \\text{Mittelwert Gruppe 1}) * b_2\n",
    "$$"
   ],
   "metadata": {
    "collapsed": false
   },
   "id": "e7a8a3ebbd0ba536"
  },
  {
   "cell_type": "markdown",
   "source": [
    "### t-test in Logistic Regression\n",
    "\n",
    "$$\n",
    "y = \\ln{\\text{P(Gruppe 1)}} * b_1 + (\\ln{\\text{P(Gruppe 2)}} - \\ln{\\text{P(Gruppe 1)}}) * b_2\n",
    "$$\n",
    "\n",
    "kann umgeformt werden zu:\n",
    "$$\n",
    "y = \\ln{\\text{P(Gruppe 1)} * b_1 + (\\ln{\\frac{\\text{P(Gruppe 2)}}{\\text{P(Gruppe 2)}}}) * b_2\n",
    "$$"
   ],
   "metadata": {
    "collapsed": false
   },
   "id": "500f0a92e0cfc506"
  },
  {
   "cell_type": "markdown",
   "source": [
    "# T-Test in Logistic Regression Beispiel"
   ],
   "metadata": {
    "collapsed": false
   },
   "id": "158274e17bbf6393"
  },
  {
   "cell_type": "code",
   "outputs": [
    {
     "data": {
      "text/plain": "<Figure size 640x480 with 1 Axes>",
      "image/png": "[encoded data removed]"
     },
     "metadata": {},
     "output_type": "display_data"
    },
    {
     "name": "stdout",
     "output_type": "stream",
     "text": [
      "Mean of Group 1 (x): 3.0\n",
      "Mean of Group 2 (x): 8.0\n",
      "Mean of Group 1 (y): 0.4\n",
      "Mean of Group 2 (y): 0.6\n",
      "Coefficient b1: 0.20649658015443795\n",
      "Coefficient b2: 0.016745431639257076\n",
      "Probability of Group 1 at x = 7 : 1.4945479567724487\n",
      "Probability of Group 2 at x = 7 : 1.5047299988032026\n"
     ]
    }
   ],
   "source": [
    "import numpy as np\n",
    "import matplotlib.pyplot as plt\n",
    "from sklearn.linear_model import LogisticRegression\n",
    "\n",
    "# Group 1\n",
    "x1 = np.array([1, 2, 3, 4, 5]).reshape(-1, 1)\n",
    "y1 = np.array([0, 0, 0, 1, 1])\n",
    "\n",
    "# Group 2\n",
    "x2 = np.array([6, 7, 8, 9, 10]).reshape(-1, 1)\n",
    "y2 = np.array([0, 0, 1, 1, 1])\n",
    "\n",
    "mean_x1 = np.mean(x1)\n",
    "mean_x2 = np.mean(x2)\n",
    "mean_y1 = np.mean(y1)\n",
    "mean_y2 = np.mean(y2)\n",
    "\n",
    "x = np.concatenate([x1, x2])\n",
    "y = np.concatenate([y1, y2])\n",
    "\n",
    "model = LogisticRegression(solver='liblinear', random_state=0)\n",
    "model.fit(x, y)\n",
    "\n",
    "plt.scatter(x1, y1, color='blue', label='Group 1')\n",
    "plt.scatter(x2, y2, color='red', label='Group 2')\n",
    "\n",
    "x_test = np.linspace(0, 10, 300)\n",
    "y_prob = model.predict_proba(x_test.reshape(-1, 1))[:, 1]\n",
    "plt.plot(x_test, y_prob > 0.5, color='black', linestyle='--', label='Decision Boundary')\n",
    "\n",
    "plt.xlabel('x')\n",
    "plt.ylabel('y')\n",
    "plt.legend()\n",
    "\n",
    "plt.show()\n",
    "\n",
    "print(\"Mean of Group 1 (x):\", mean_x1)\n",
    "print(\"Mean of Group 2 (x):\", mean_x2)\n",
    "print(\"Mean of Group 1 (y):\", mean_y1)\n",
    "print(\"Mean of Group 2 (y):\", mean_y2)\n",
    "\n",
    "b1 = model.coef_[0][0]\n",
    "b2 = model.coef_[0][0] * (np.log(mean_y2) - np.log(mean_y1)) / (mean_x2 - mean_x1)\n",
    "print(\"Coefficient b1:\", b1)\n",
    "print(\"Coefficient b2:\", b2)\n",
    "\n",
    "def t_test(x):\n",
    "    p_group1 = np.exp(b1 * np.log(x))\n",
    "    p_group2 = np.exp(b1 * np.log(x) + b2 * (np.log(mean_y2) - np.log(mean_y1)))\n",
    "    return p_group1, p_group2\n",
    "\n",
    "x_example = 7\n",
    "p_group1, p_group2 = t_test(x_example)\n",
    "print(\"Probability of Group 1 at x =\", x_example, \":\", p_group1)\n",
    "print(\"Probability of Group 2 at x =\", x_example, \":\", p_group2)"
   ],
   "metadata": {
    "collapsed": false,
    "ExecuteTime": {
     "end_time": "2024-04-04T08:43:33.173889Z",
     "start_time": "2024-04-04T08:43:33.028354Z"
    }
   },
   "id": "ee69fc0cd943fc84",
   "execution_count": 40
  },
  {
   "cell_type": "markdown",
   "source": [
    "\n",
    "### Multinomial logistic regression\n",
    "- mehr als 2 Klassen\n",
    "- mehrere binäre Klassifikatoren\n",
    "- eine Klasse wird als Referenzklasse verwendet\n",
    "- die Klasse mit der höchsten Wahrscheinlichkeit wird ausgewählt"
   ],
   "metadata": {
    "collapsed": false
   },
   "id": "d2dce5e68d86841b"
  },
  {
   "cell_type": "markdown",
   "source": [
    "### Quellen:\n",
    "- [https://statquest.org/](https://statquest.org/)\n",
    "- [https://en.wikipedia.org/wiki/Logistic_regression](https://en.wikipedia.org/wiki/Logistic_regression)\n",
    "- [https://www.geeksforgeeks.org/understanding-logistic-regression/](https://www.geeksforgeeks.org/understanding-logistic-regression/)"
   ],
   "metadata": {
    "collapsed": false
   },
   "id": "b719697550231486"
  }
 ],
 "metadata": {
  "kernelspec": {
   "display_name": "Python 3",
   "language": "python",
   "name": "python3"
  },
  "language_info": {
   "codemirror_mode": {
    "name": "ipython",
    "version": 2
   },
   "file_extension": ".py",
   "mimetype": "text/x-python",
   "name": "python",
   "nbconvert_exporter": "python",
   "pygments_lexer": "ipython2",
   "version": "2.7.6"
  }
 },
 "nbformat": 4,
 "nbformat_minor": 5
}
